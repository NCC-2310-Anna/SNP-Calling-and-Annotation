{
 "cells": [
  {
   "cell_type": "markdown",
   "id": "2e3464bd-c720-407e-85b1-cea012baa0b2",
   "metadata": {},
   "source": [
    "# Mapping the sequencing data to the reference Genome"
   ]
  },
  {
   "cell_type": "markdown",
   "id": "b7f3a0d5-fb19-4390-b556-6309f67a49b6",
   "metadata": {},
   "source": [
    "In the first step we need to map our short-read sequencing data to a reference genome."
   ]
  },
  {
   "cell_type": "markdown",
   "id": "6998a10b-b6f7-49df-885a-28056a933bfb",
   "metadata": {},
   "source": [
    "What we need for this step:\n",
    "- Data:\n",
    "    - Short-read from Illumina sequencing (`fastq` files)\n",
    "    - Reference genome (`fasta` files)\n",
    "- Tools:\n",
    "    - Mapper: `minimap2` or `bowtie2`\n",
    "    - `samtools sort`\n",
    "    - `samtools index`"
   ]
  },
  {
   "cell_type": "markdown",
   "id": "8eb5d9dc-72e9-46a2-b0d0-6c10a75e0f79",
   "metadata": {},
   "source": [
    "## Mapping with `minimap2`"
   ]
  },
  {
   "cell_type": "markdown",
   "id": "edf7c082-0dc8-4da6-8e51-b88ebaab508b",
   "metadata": {
    "editable": true,
    "slideshow": {
     "slide_type": ""
    },
    "tags": []
   },
   "source": [
    "Map the data to the reference genome with `minimap2`. We get a mapping file for each chromosome/plasmid (`.sam`)."
   ]
  },
  {
   "cell_type": "code",
   "execution_count": null,
   "id": "fa8eb6a3-6009-4d4a-818d-64f466615b6f",
   "metadata": {
    "editable": true,
    "scrolled": true,
    "slideshow": {
     "slide_type": ""
    },
    "tags": []
   },
   "outputs": [],
   "source": [
    "for i in Chr1 Chr2 PlA PlB PlC PlDE; do minimap2 -a $i.fasta ../Sequencing/RawReads.fastq > ../Alignments/Raw/$i.sam; done"
   ]
  },
  {
   "cell_type": "markdown",
   "id": "9511e7e6-db3a-4d49-9fc4-27a9da765c15",
   "metadata": {
    "editable": true,
    "slideshow": {
     "slide_type": ""
    },
    "tags": []
   },
   "source": [
    "Sort the `.sam` files with `samtools sort` (Covert the `.sam` files to `.bam`)"
   ]
  },
  {
   "cell_type": "code",
   "execution_count": null,
   "id": "56e4fa94-21a8-4eb3-90d2-2da95f466212",
   "metadata": {
    "scrolled": true
   },
   "outputs": [],
   "source": [
    "for i in Chr1 Chr2 PlA PlB PlC PlDE; do samtools sort -o $i.bam $i.sam; done"
   ]
  },
  {
   "cell_type": "markdown",
   "id": "6ec661cf-f813-432a-a025-24c76cf85666",
   "metadata": {},
   "source": [
    "The `.sam` files need very much space. If the step above runs without errors, we can remove these files to reduce the space usage. "
   ]
  },
  {
   "cell_type": "code",
   "execution_count": 5,
   "id": "ac4b6221-50d1-4745-a9a4-bb57404c5a35",
   "metadata": {},
   "outputs": [],
   "source": [
    "for i in *.sam; do rm $i; done"
   ]
  },
  {
   "cell_type": "markdown",
   "id": "e18231af-29df-4ac0-a35d-879b3c04879d",
   "metadata": {},
   "source": [
    "Now we need to index the `.bam` files with `samtools index`."
   ]
  },
  {
   "cell_type": "code",
   "execution_count": 6,
   "id": "80f1a2bf-3ab1-456f-bcb7-b624ba465da0",
   "metadata": {
    "editable": true,
    "slideshow": {
     "slide_type": ""
    },
    "tags": []
   },
   "outputs": [],
   "source": [
    "for i in *.bam; do samtools index $i; done"
   ]
  },
  {
   "cell_type": "markdown",
   "id": "ef9bdc28-45d0-420e-af24-d0f194e220c9",
   "metadata": {},
   "source": [
    "### Filtering the maps (MAPQ >=30)"
   ]
  },
  {
   "cell_type": "markdown",
   "id": "682cd0bc-8c99-4e67-a26e-d03075a8e2f7",
   "metadata": {},
   "source": [
    "We want only mappings with high quality for further analysis. With `samtools view` we remove all mappings with a phred quality score smaller than 30. "
   ]
  },
  {
   "cell_type": "code",
   "execution_count": 8,
   "id": "33e05ee1-68ff-4bfd-a2de-c2f5495739a5",
   "metadata": {},
   "outputs": [],
   "source": [
    "for i in Chr1 Chr2 PlA PlB PlC PlDE; do samtools view -q 30 -b Raw/$i.bam > Filtered/$i.q30.bam; done"
   ]
  },
  {
   "cell_type": "markdown",
   "id": "f5aa00a4-043e-4a35-97a8-b79d94c5037c",
   "metadata": {},
   "source": [
    "## Mapping with `bowtie2`"
   ]
  },
  {
   "cell_type": "markdown",
   "id": "28464986-e0b1-4b9d-9581-159de738e55e",
   "metadata": {},
   "source": [
    "For the mapping with `bowtie2`, we need to create a bowtie index for the reference data with `bowtie2-build`."
   ]
  },
  {
   "cell_type": "code",
   "execution_count": 3,
   "id": "643243ca-b2a2-4563-aaca-80d669da6b94",
   "metadata": {},
   "outputs": [],
   "source": [
    "for i in Chr1 Chr2 PlA PlB PlC PlDE; do bowtie2-build -f $i.fasta indices/$i; done"
   ]
  },
  {
   "cell_type": "markdown",
   "id": "922ebbf6-a87a-4fe0-b3b6-c0b75e590698",
   "metadata": {},
   "source": [
    "Now we can map our reads with `bowtie2`"
   ]
  },
  {
   "cell_type": "code",
   "execution_count": null,
   "id": "e1dfa923-52b6-4f24-806a-7ef74478a717",
   "metadata": {
    "scrolled": true
   },
   "outputs": [],
   "source": [
    "cd Data/indices/\n",
    "for i in Chr1 Chr2 PlA PlB PlC PlDE; do bowtie2 -x $i -f -U Data/Sequencing/RawReads.fasta -S Data/Alignments/bowtie2_$i.sam --threads 10; done"
   ]
  },
  {
   "cell_type": "markdown",
   "id": "b2a45ed8-08c7-4106-a29e-71f1b30d4a4f",
   "metadata": {},
   "source": [
    "Similar to the mapping with `minimap2`, we need to sort, index and filter our mapping again."
   ]
  },
  {
   "cell_type": "code",
   "execution_count": null,
   "id": "f29e3cc1-49df-4e3c-b8f2-4a4bc3a62b60",
   "metadata": {},
   "outputs": [],
   "source": [
    "for i in Chr1 Chr2 PlA PlB PlC PlDE; do samtools sort -o bowtie2_$i.bam bowtie2_$i.sam; done"
   ]
  },
  {
   "cell_type": "code",
   "execution_count": 9,
   "id": "e2ef8c96-793f-4e30-a360-09cc269029c6",
   "metadata": {},
   "outputs": [],
   "source": [
    "for i in *.sam; do rm $i; done"
   ]
  },
  {
   "cell_type": "code",
   "execution_count": 11,
   "id": "ae656cee-12e9-4fff-86cf-19f4374e6249",
   "metadata": {},
   "outputs": [],
   "source": [
    "for i in *.bam; do samtools index $i; done"
   ]
  },
  {
   "cell_type": "code",
   "execution_count": 14,
   "id": "a9050026-a4dc-4d92-af3e-25a20e25411e",
   "metadata": {},
   "outputs": [],
   "source": [
    "for i in Chr1 Chr2 PlA PlB PlC PlDE; do samtools view -q 30 -b bowtie2_$i.bam > ../Filtered/$i.q30.bam; done"
   ]
  },
  {
   "cell_type": "markdown",
   "id": "b15c5753-d928-4d21-8a55-1a863c87bb93",
   "metadata": {},
   "source": [
    "With the `samtools depth` command we can get some statistics "
   ]
  },
  {
   "cell_type": "code",
   "execution_count": 15,
   "id": "a18e9063-2197-42be-8d11-061ffd97aa9b",
   "metadata": {},
   "outputs": [],
   "source": [
    "cd ../Filtered; for i in Chr1 Chr2 PlA PlB PlC PlDE; do samtools depth  $i.q30.bam > $i.tab; done"
   ]
  },
  {
   "cell_type": "markdown",
   "id": "da39cb57-b47d-4cb0-b01f-0b9fd823c555",
   "metadata": {},
   "source": [
    "# Variant Calling with `BCFTools`"
   ]
  },
  {
   "cell_type": "markdown",
   "id": "87f72478-9229-4eff-b98a-29634989fb61",
   "metadata": {},
   "source": [
    "## With filtered mapping (`minimap2`)"
   ]
  },
  {
   "cell_type": "markdown",
   "id": "e3506599-10e7-4d6e-bc2e-c0a7d1b8a12e",
   "metadata": {},
   "source": [
    "The first mapper for the consensus SNP calling pipeline is `bcftools mpileup` and following `bcftools call`. As Input we can use our filtered alignments (here the alignment from the `minimap2` aligner but the `bowtie2` alignment also works). As we have a bacterial genome we can set the ploidy parameter to 1 (Default is 2)."
   ]
  },
  {
   "cell_type": "code",
   "execution_count": null,
   "id": "0f515c85-3fb3-4a99-8302-c5fffb8516e5",
   "metadata": {
    "editable": true,
    "slideshow": {
     "slide_type": ""
    },
    "tags": []
   },
   "outputs": [],
   "source": [
    "for i in Chr1 Chr2 PlA PlB PlC PlDE; do bcftools mpileup -Ou -f $i.fasta ../Alignments/Filtered/$i.q30.bam  | bcftools call -mv --ploidy 1 -Ob -o ../SNPCalls/BCFTools/Filtered/$i.bcf; done"
   ]
  },
  {
   "cell_type": "markdown",
   "id": "5f911c31-25e2-4801-9a59-00311a537766",
   "metadata": {},
   "source": [
    "BCFTools outputs a binary `.bcf` file for further analysis we need to convert it into a humand-readable `.vcf` file with `bcftools convert`."
   ]
  },
  {
   "cell_type": "code",
   "execution_count": 17,
   "id": "b1383635-1a9e-478b-ba31-4b59f8cccdf6",
   "metadata": {
    "editable": true,
    "slideshow": {
     "slide_type": ""
    },
    "tags": []
   },
   "outputs": [],
   "source": [
    "for i in Chr1 Chr2 PlA PlB PlC PlDE; do bcftools convert $i.bcf > $i.vcf; done"
   ]
  },
  {
   "cell_type": "markdown",
   "id": "37fe0418-6f37-4437-8381-fba249cf3467",
   "metadata": {},
   "source": [
    "We don't need the binary files, so we can remove them."
   ]
  },
  {
   "cell_type": "code",
   "execution_count": 18,
   "id": "97e4a69a-133c-47ee-b732-efef984eb774",
   "metadata": {},
   "outputs": [],
   "source": [
    "for i in *.bcf; do rm $i; done"
   ]
  },
  {
   "cell_type": "markdown",
   "id": "2f4fcdae-d83c-41f1-a7e4-9965d34e3a19",
   "metadata": {
    "editable": true,
    "slideshow": {
     "slide_type": ""
    },
    "tags": []
   },
   "source": [
    "# Variant Calling with `freebayes`"
   ]
  },
  {
   "cell_type": "markdown",
   "id": "5aae8354-3346-4540-a5e8-9956c3487f9d",
   "metadata": {},
   "source": [
    "## With filtered mapping (`minimap2`)"
   ]
  },
  {
   "cell_type": "markdown",
   "id": "a9f3af53-3236-45c6-b92d-b3654043c737",
   "metadata": {},
   "source": [
    "With the command `freebayes` we call the variants from the filtered alignment. Similar to the variant calling with `bcftools` we need to set the ploidy parameter to 1. "
   ]
  },
  {
   "cell_type": "code",
   "execution_count": 22,
   "id": "16775f6c-22b9-4736-ba68-d41a5d334e5b",
   "metadata": {
    "editable": true,
    "slideshow": {
     "slide_type": ""
    },
    "tags": []
   },
   "outputs": [],
   "source": [
    "for i in Chr1 Chr2 PlA PlB PlC PlDE; do freebayes -f $i.fasta ../Alignments/Filtered/$i.q30.bam --ploidy 1 > ../SNPCalls/Freebayes/Filtered/$i.vcf; done"
   ]
  },
  {
   "cell_type": "markdown",
   "id": "e1b8ccff-c961-4042-afbf-e7282a42bfe3",
   "metadata": {},
   "source": [
    "# Variant Calling with `lofreq`"
   ]
  },
  {
   "cell_type": "code",
   "execution_count": 24,
   "id": "8f53abff-221d-4083-a0ba-665e8861ee44",
   "metadata": {},
   "outputs": [],
   "source": [
    "conda activate lofreq"
   ]
  },
  {
   "cell_type": "markdown",
   "id": "7ea33c7d-297f-4a66-a875-f383eb05af1f",
   "metadata": {},
   "source": [
    "## With filtered mapping (`minimap2`)"
   ]
  },
  {
   "cell_type": "markdown",
   "id": "72df7685-657f-4eea-aa52-19e757220478",
   "metadata": {},
   "source": [
    "For variant calling with the tool `lofreq` we need to do some preparations. Before variant calling we have to calculate the indel qualities from our filtered alignement with `lofreq indelqual`."
   ]
  },
  {
   "cell_type": "code",
   "execution_count": 33,
   "id": "b92206bb-f6a2-49e1-8661-fe9879a7ba77",
   "metadata": {},
   "outputs": [],
   "source": [
    "for i in Chr1 Chr2 PlA PlB PlC PlDE; do lofreq indelqual --dindel --ref $i.fasta --out /Data/Alignments/IndelQual/$i.indelqual.bam Data/Alignments/Filtered/$i.q30.bam; done"
   ]
  },
  {
   "cell_type": "markdown",
   "id": "c50a499f-509c-4a90-9b29-bf2c84dab8b5",
   "metadata": {},
   "source": [
    "Now we can call the variants:"
   ]
  },
  {
   "cell_type": "code",
   "execution_count": null,
   "id": "e2ad7d5d-4b7e-40db-95a8-0e60dca6a521",
   "metadata": {},
   "outputs": [],
   "source": [
    "for i in Chr1 Chr2 PlA PlB PlC PlDE; do lofreq call -f /Data/RefGenome/$i.fasta --call-indels -o ~/SnP_Pipeline_full/Data/SNPCalls/Lofreq/Filtered/$i.vcf ~/SnP_Pipeline_full/Data/Alignments/IndelQual/$i.indelqual.bam; done "
   ]
  },
  {
   "cell_type": "code",
   "execution_count": null,
   "id": "ccecdc20-7429-4e94-bfde-50cda06902b5",
   "metadata": {},
   "outputs": [],
   "source": [
    "The resulting `.vcf` files will now be merged and annotated. Please refer the notebook `Pipeline`"
   ]
  }
 ],
 "metadata": {
  "kernelspec": {
   "display_name": "Bash",
   "language": "bash",
   "name": "bash"
  },
  "language_info": {
   "codemirror_mode": "shell",
   "file_extension": ".sh",
   "mimetype": "text/x-sh",
   "name": "bash"
  }
 },
 "nbformat": 4,
 "nbformat_minor": 5
}
