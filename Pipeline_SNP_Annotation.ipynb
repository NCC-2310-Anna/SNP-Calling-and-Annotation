{
 "cells": [
  {
   "cell_type": "markdown",
   "id": "7763d4ce-10a0-435f-8313-6a8e94b6c82c",
   "metadata": {},
   "source": [
    "# SNP Annotation"
   ]
  },
  {
   "cell_type": "markdown",
   "id": "8645a27e-7336-4807-b86a-79e6956aae19",
   "metadata": {},
   "source": [
    "The following steps have to repeated for every chromosome and every plasmid!"
   ]
  },
  {
   "cell_type": "markdown",
   "id": "6c59e056-37a9-4cff-8b0a-4fa9ce5ccea6",
   "metadata": {},
   "source": [
    "What we need for these steps:\n",
    "- Data:\n",
    "    - the variant call files (`.vcf`) from the different callers\n",
    "    - the `.fasta` files for the reference genome\n",
    "    - the genome annotation files for the reference genome (`.gff` or `.gff3`)\n",
    "- Tools:\n",
    "    - Python version 3.10.10\n",
    "    - Python scripts available from the directory \\PythonScripts"
   ]
  },
  {
   "cell_type": "code",
   "execution_count": 1,
   "id": "6117cb0e-b2d9-4d1a-a908-a84ef7c387c5",
   "metadata": {},
   "outputs": [],
   "source": [
    "import sys\n",
    "sys.path.append(\"PythonScripts\")"
   ]
  },
  {
   "cell_type": "code",
   "execution_count": 2,
   "id": "b8f97c0e-d1a9-434f-b9dc-7438fc03cae1",
   "metadata": {},
   "outputs": [],
   "source": [
    "import ReadFiles as Rf\n",
    "import vcf\n",
    "import fasta\n",
    "import gff\n",
    "import re\n",
    "import translation_table"
   ]
  },
  {
   "cell_type": "code",
   "execution_count": 3,
   "id": "a50af5ff-e200-4df1-ac78-773c1c1ab34a",
   "metadata": {
    "editable": true,
    "scrolled": true,
    "slideshow": {
     "slide_type": ""
    },
    "tags": []
   },
   "outputs": [],
   "source": [
    "fasta_file = (Rf.ReadFile(\"../Data/RefGenome/Chr1.fasta\"))\n",
    "gff_file = (Rf.ReadFile(\"../Data/Gff3/Chr1.gff3\"))\n",
    "vcf_bcf = (Rf.ReadFile(\"../Data/SNPCalls/BCFTools/Filtered/Chr1.vcf\"))\n",
    "vcf_fb = (Rf.ReadFile(\"../Data/SNPCalls/Freebayes/Filtered/Chr1.vcf\"))\n",
    "vcf_lf = (Rf.ReadFile(\"../Data/SNPCalls/Lofreq/Filtered/Chr1.vcf\"))"
   ]
  },
  {
   "cell_type": "markdown",
   "id": "ef5e3498-c322-4a9e-a4ce-b5b9e9a318d5",
   "metadata": {},
   "source": [
    "First we need to reformat the `.fasta` file with the function `fasta.FastaCleanup(fasta_file)`"
   ]
  },
  {
   "cell_type": "code",
   "execution_count": 4,
   "id": "ce7c3d8a-eebe-40dd-96af-1444ace5c0f9",
   "metadata": {
    "editable": true,
    "scrolled": true,
    "slideshow": {
     "slide_type": ""
    },
    "tags": []
   },
   "outputs": [],
   "source": [
    "fasta_new = fasta.FastaCleanup(fasta_file)"
   ]
  },
  {
   "cell_type": "markdown",
   "id": "8c700378-8f74-438b-8ec2-2bb3f1b77b70",
   "metadata": {},
   "source": [
    "From the genome annotation file we need to extract all loci for coding sequences (`CDS`).  If we change the search-word we can also extract other loci (i.e. `gene`)"
   ]
  },
  {
   "cell_type": "code",
   "execution_count": null,
   "id": "3945184c-c5f2-4f8f-9fe3-24e741ebfc22",
   "metadata": {
    "scrolled": true
   },
   "outputs": [],
   "source": [
    "gff_Loci = gff.GFFExtractLoci(gff_file, \"CDS\")"
   ]
  },
  {
   "cell_type": "markdown",
   "id": "816a890f-5c43-4296-9628-e297b5f7edbe",
   "metadata": {},
   "source": [
    "Now we can extract a list of variants for every caller."
   ]
  },
  {
   "cell_type": "code",
   "execution_count": null,
   "id": "4e5bf941-3e6e-413b-a368-214e7cdadb3f",
   "metadata": {
    "scrolled": true
   },
   "outputs": [],
   "source": [
    "vcf_new_bcf = vcf.VCFExtractSNP(vcf_bcf)\n",
    "vcf_new_fb = vcf.VCFExtractSNP(vcf_fb)\n",
    "vcf_new_lf = vcf.VCFExtractSNP(vcf_lf)"
   ]
  },
  {
   "cell_type": "markdown",
   "id": "f95762da-3e87-4487-b0c9-16dd06ea7fbd",
   "metadata": {},
   "source": [
    "The three lists were merged now to get only consent SNPs. With the parameter `snp` we ingnore all indels."
   ]
  },
  {
   "cell_type": "code",
   "execution_count": null,
   "id": "74de580e-1f4b-4c30-887c-f8c27c6a0471",
   "metadata": {
    "editable": true,
    "scrolled": true,
    "slideshow": {
     "slide_type": ""
    },
    "tags": []
   },
   "outputs": [],
   "source": [
    "vcf_snp = vcf.MergeVCF(vcf_new_bcf, vcf_new_fb, vcf_new_lf, \"snp\")"
   ]
  },
  {
   "cell_type": "markdown",
   "id": "fda0a79a-46f5-4951-9fff-41593bb5a117",
   "metadata": {},
   "source": [
    "Sequences for the coding regions were added to the annotated loci using `ExtractRegion()`."
   ]
  },
  {
   "cell_type": "code",
   "execution_count": 8,
   "id": "bfbbdc94-50ee-4ae6-8681-5b61c225c34d",
   "metadata": {},
   "outputs": [],
   "source": [
    "subregion_list = [[\"Lower Limit\",\"Upper Limit\",\"Direction\",\"Info\", \"Region\"]]\n",
    "for i in gff_Loci:\n",
    "    subregion_list.append([i[3], i[4],i[6],i[8], fasta.ExtractRegion(int(i[3]), int(i[4])+1, i[6], fasta_new)])\n",
    "del i "
   ]
  },
  {
   "cell_type": "markdown",
   "id": "e400ffc5-186a-4098-a231-54c83b51cf1a",
   "metadata": {},
   "source": [
    "Now we can extract all regions with a SNP in it:"
   ]
  },
  {
   "cell_type": "code",
   "execution_count": 9,
   "id": "597183f7-1103-4cf1-8903-e289bddf5516",
   "metadata": {},
   "outputs": [],
   "source": [
    "vcf_snp1 = vcf_snp\n",
    "vcf_snp = list()\n",
    "for i in vcf_snp1:\n",
    "    if (i[2] == i[4]) and\\\n",
    "       (i[2] == i[6]):\n",
    "            vcf_snp.append([i[0],i[1],i[2]])\n",
    "del vcf_snp1\n",
    "del i"
   ]
  },
  {
   "cell_type": "code",
   "execution_count": 10,
   "id": "87fa7f50-349c-4a22-a79a-47674664a7f4",
   "metadata": {},
   "outputs": [],
   "source": [
    "subregion_with_snp = [['Pos','Ref',\"Alt\",\"LowerLimit\",\"UpperLimit\",\"Direction\",\\\n",
    "                      \"Info\", \"Sequence\"]]\n",
    "#subregion_with_snp = list()\n",
    "for i in subregion_list:\n",
    "    for j in vcf_snp:\n",
    "        if j[0].isdigit() and i[0].isdigit():\n",
    "         if int(j[0])>=int(i[0]) and int(j[0])<= int(i[1]):\n",
    "            subregion_with_snp.append([j[0],j[1],j[2],i[0],i[1],i[2], i[3], i[4]])\n",
    "del i\n",
    "del j"
   ]
  },
  {
   "cell_type": "markdown",
   "id": "d751c3bc-9a1d-4695-b814-d3689014a6b8",
   "metadata": {},
   "source": [
    "In the next step we create two fasta files: one without the observed mutations (simple the sequence from the reference genome) and one with the oberserved SNPs"
   ]
  },
  {
   "cell_type": "code",
   "execution_count": 11,
   "id": "e32085be-c0b3-45fe-86bd-a928e05ba3db",
   "metadata": {},
   "outputs": [],
   "source": [
    "multifasta_orig = []\n",
    "for i in subregion_with_snp:\n",
    "    if i[0].isdigit():\n",
    "        multifasta_orig.append('>_'+i[0]+'_'+i[1]+'_'+i[2]+'_'+i[3]+'_'+i[4]+\\\n",
    "                               '_'+i[5])\n",
    "        multifasta_orig.append(i[7])\n",
    "        \n",
    "multifasta_orig_rev = []\n",
    "for i in multifasta_orig:\n",
    "    x = re.findall(\"^>\", i)\n",
    "    if x: \n",
    "        a = i.split('_')\n",
    "        multifasta_orig_rev.append(i)\n",
    "    else:\n",
    "        if a[6] == '-':\n",
    "            i=fasta.ReverseString(i)\n",
    "            i= i.replace(\"A\", \"t\").replace(\"T\", \"a\").replace(\"C\", \"g\").\\\n",
    "                replace(\"G\", \"c\")\n",
    "            i=i.upper()\n",
    "        multifasta_orig_rev.append(i)"
   ]
  },
  {
   "cell_type": "code",
   "execution_count": 12,
   "id": "60fff7d3-18de-40c8-8c02-26673a7b0034",
   "metadata": {
    "scrolled": true
   },
   "outputs": [
    {
     "name": "stdout",
     "output_type": "stream",
     "text": [
      "Mutate A to G at Position 95915\n",
      "Mutate T to G at Position 226764\n",
      "Mutate C to G at Position 227076\n",
      "Mutate C to G at Position 227091\n",
      "...\n"
     ]
    }
   ],
   "source": [
    "multifasta_mut = []\n",
    "for i in multifasta_orig:\n",
    "    x = re.findall(\"^>\", i)\n",
    "    if x: \n",
    "        a = i.split('_')\n",
    "        multifasta_mut.append(i)\n",
    "    else:\n",
    "        i = list(i)\n",
    "        if i[int(a[1])-int(a[4])]== a[2]:\n",
    "            i[int(a[1])-int(a[4])]=a[3]\n",
    "            j=\"\".join(i)\n",
    "            if a[6] == '-':\n",
    "                j=fasta.ReverseString(j)\n",
    "                j= j.replace(\"A\", \"t\").replace(\"T\", \"a\").replace(\"C\", \"g\").\\\n",
    "                    replace(\"G\", \"c\")\n",
    "                j=j.upper()\n",
    "            multifasta_mut.append(j)\n",
    "            print(\"Mutate \"+ a[2]+\" to \" + a[3] + \" at Position \" + a[1])\n",
    "        else:\n",
    "            print(\"Error at SNP Position: \" + a[1] + ': ' + a[2]+ ' expected')"
   ]
  },
  {
   "cell_type": "markdown",
   "id": "537d0a13-3bef-4008-add9-b96663d7a829",
   "metadata": {},
   "source": [
    "In the last step of the annotation pipeline we do some in silico translation to get `.fasta` files of the protein sequences with and without the mutations."
   ]
  },
  {
   "cell_type": "code",
   "execution_count": 13,
   "id": "61e10ba7-81d5-428d-8b21-0be85f13fe7f",
   "metadata": {},
   "outputs": [],
   "source": [
    "kmer_list_orig = []\n",
    "for i in multifasta_orig_rev:\n",
    "    x = re.findall(\"^>\", i)\n",
    "    if x: \n",
    "        kmer_list_orig.append(i)\n",
    "    else:\n",
    "        kmer_tmp = fasta.KmerSplit(i,3)\n",
    "        kmer_list_orig.append(kmer_tmp)\n",
    "        \n",
    "\n",
    "\n",
    "kmer_list_mut = []\n",
    "for i in multifasta_mut:\n",
    "    x = re.findall(\"^>\", i)\n",
    "    if x: \n",
    "        kmer_list_mut.append(i)\n",
    "    else:\n",
    "        kmer_tmp = fasta.KmerSplit(i,3)\n",
    "        kmer_list_mut.append(kmer_tmp)"
   ]
  },
  {
   "cell_type": "code",
   "execution_count": 14,
   "id": "2f8a7ffa-76d4-4545-b45a-faaf7f33940a",
   "metadata": {
    "editable": true,
    "slideshow": {
     "slide_type": ""
    },
    "tags": []
   },
   "outputs": [],
   "source": [
    "protein_seq_orig = []\n",
    "for i in kmer_list_orig:\n",
    "    x = re.findall(\"^>\", ''.join(i))\n",
    "    if x: \n",
    "        protein_seq_orig.append(i)\n",
    "    else:\n",
    "        protein_seq_orig.append(translation_table.translateDNA(i))\n",
    "        \n",
    "protein_seq_mut = []\n",
    "for i in kmer_list_mut:\n",
    "    x = re.findall(\"^>\", ''.join(i))\n",
    "    if x: \n",
    "        protein_seq_mut.append(i)\n",
    "    else:\n",
    "        protein_seq_mut.append(translation_table.translateDNA(i))\n",
    "        "
   ]
  },
  {
   "cell_type": "code",
   "execution_count": 15,
   "id": "da8328a8-24fd-4e08-8036-39cedaf2e33c",
   "metadata": {
    "scrolled": true
   },
   "outputs": [
    {
     "name": "stdout",
     "output_type": "stream",
     "text": [
      "Orig:\n",
      "\n",
      ">_95915_A_G_95773_96516_-\n",
      "MVPQSRPLVPAVLLTRPEAQGARFAAALAEALGPVRLVTSPLMVPAFLVPAIPLRPDALIFTSETGVEGYRRLAAPELSDVRRAWCVGNRTARAAEAAGLAAHSAEGDAERLIAAILAADEPGPLLHLRGAESRGEVAPRLAAAGLTAAEAVVYDQRPQPLSSEARALLTDGAPVIAPLFSPRTARLLAQELARIGGTGPLWVAAMSPAVAEAAAALPVARLSVAARPDAEALLQAVKALLDAEADA\n",
      ">_226764_T_G_226593_226931_-\n",
      "MARKRAAAMTSATIDYSRLVKARDIRAQAEARARGPAEISVLQAMIVVGEEKWGQAMAIAEDAAYPWAMRAALRGATVLVRDSETTDTLAFLLGLSPEETDRLFIEAAEVRL\n",
      ">_227076_C_G_226935_227252_-\n",
      "MMRIRMVPLRRMYELTVFRVQGDTLTCNDMVYDFSGVEEGDVLPWDAMDNTWVTSNVTRVNGVLEFEVVFPHGYYGDLPLPTPGILEVEDQDIPIPPYLPPFAEG\n",
      ">_227091_C_G_226935_227252_-\n",
      "MMRIRMVPLRRMYELTVFRVQGDTLTCNDMVYDFSGVEEGDVLPWDAMDNTWVTSNVTRVNGVLEFEVVFPHGYYGDLPLPTPGILEVEDQDIPIPPYLPPFAEG\n",
      "...\n",
      "Mut: \n",
      "\n",
      ">_95915_A_G_95773_96516_-\n",
      "MVPQSRPLVPAVLLTRPEAQGARFAAALAEALGPVRLVTSPLMVPAFLVPAIPLRPDALIFTSETGVEGYRRLAAPELSDVRRAWCVGNRTARAAEAAGLAAHSAEGDAERLIAAILAADEPGPLLHLRGAESRGEVAPRLAAAGLTAAEAVVYDQRPQPLSSEARALLTDGAPVIAPLFSPRTARLLAQELARIGGTGPPWVAAMSPAVAEAAAALPVARLSVAARPDAEALLQAVKALLDAEADA\n",
      ">_226764_T_G_226593_226931_-\n",
      "MARKRAAAMTSATIDYSRLVKARDIRAQAEARARGPAEISVLQAMIVVGEEKWGQAMAIAEDAAYPWAMRAALRGATVLVRDSETTDTLAFLLGLSPEETDRLFIEAAEVRL\n",
      ">_227076_C_G_226935_227252_-\n",
      "MMRIRMVPLRRMYELTVFRVQGDTLTCNDMVYDFSGVEEGDVLPWDAMDNTWVTSNVTRVNGVLEFEVVFPHGYYGDLPLPTPGILEVEDQDIPIPPYLPPFAEG\n",
      ">_227091_C_G_226935_227252_-\n",
      "MMRIRMVPLRRMYELTVFRVQGDTLTCNDMVYDFSGVEEGDVLPWDAMDNTWVTSNVTRVNGVLEFEVVFPHGYYGDLPLPTPGILEVEDQDIPIPPYLPPFAEG\n",
      "...\n"
       ]
    }
   ],
   "source": [
    "print('Orig:\\n')\n",
    "print('\\n'.join(protein_seq_orig))\n",
    "print('\\nMut: \\n')\n",
    "print('\\n'.join(protein_seq_mut))"
   ]
  },
  {
   "cell_type": "code",
   "execution_count": 16,
   "id": "ac7b84ed-2b0c-404e-9720-4baf95aa8a7b",
   "metadata": {},
   "outputs": [],
   "source": [
    "protein_seq_orig_1 = list()\n",
    "for i in range(0,len(protein_seq_orig)-1):\n",
    "    x = re.findall(\"^>\", ''.join(protein_seq_orig[i]))\n",
    "    if x: \n",
    "        if not protein_seq_orig[i+1] == protein_seq_mut[i+1]:\n",
    "            a = list(protein_seq_orig[i+1])\n",
    "            b = list(protein_seq_mut[i+1])\n",
    "            for j in range(0, len(a)):\n",
    "                if a[j] != b[j]:\n",
    "                    pos_counter = j\n",
    "            protein_seq_orig_1.append(protein_seq_orig[i].replace(\"\\n\",\"\")+'_'+ str(pos_counter)+\\\n",
    "                                      '_'+a[pos_counter]+'_'+b[pos_counter])\n",
    "            protein_seq_orig_1.append(protein_seq_orig[i+1])"
   ]
  },
  {
   "cell_type": "markdown",
   "id": "1188b13c-ca44-4fa5-b311-560db8ce3487",
   "metadata": {},
   "source": [
    "All our data processed above we can now export: "
   ]
  },
  {
   "cell_type": "code",
   "execution_count": 17,
   "id": "2e7b4d9a-85f4-4fb0-a20b-a65fcd771352",
   "metadata": {},
   "outputs": [],
   "source": [
    "annotation = list()\n",
    "for i in protein_seq_orig_1:\n",
    "    x = re.findall(\"^>\", ''.join(i))\n",
    "    if x: \n",
    "        annolist = i.split('_')\n",
    "        for j in subregion_with_snp:\n",
    "            if annolist[1] == j[0]:\n",
    "                info = j[6].replace(\"\\n\",\"\").split(\";\")\n",
    "                annotation.append(j[0]+\"\\t\"+info[len(info)-3]+\"\\t\"+info[len(info)-2]+\"\\t\"+\\\n",
    "                                   annolist[7]+\"\\t\"+annolist[8]+\"\\t\"+annolist[9])\n",
    "f = open(\"../Data/ProteinSequences/Chr1_Annotation.tab\", \"w\")\n",
    "f.write('\\n'.join(annotation).replace(\"product=\",\"\").replace(\"protein_id=\",\"\"))\n",
    "f.close()"
   ]
  },
  {
   "cell_type": "code",
   "execution_count": 18,
   "id": "01e7665e-960f-489f-9a94-618de3f93747",
   "metadata": {
    "scrolled": true
   },
   "outputs": [
    {
     "name": "stdout",
     "output_type": "stream",
     "text": [
      ">_95915_A_G_95773_96516_-_200_L_P\n",
      "MVPQSRPLVPAVLLTRPEAQGARFAAALAEALGPVRLVTSPLMVPAFLVPAIPLRPDALIFTSETGVEGYRRLAAPELSDVRRAWCVGNRTARAAEAAGLAAHSAEGDAERLIAAILAADEPGPLLHLRGAESRGEVAPRLAAAGLTAAEAVVYDQRPQPLSSEARALLTDGAPVIAPLFSPRTARLLAQELARIGGTGPLWVAAMSPAVAEAAAALPVARLSVAARPDAEALLQAVKALLDAEADA\n",
      ">_227275_G_A_227259_228743_-_489_T_I\n",
      "MDFFSPPPTPPNSGNPGTFNDDADAFLGWFPAFVAELNALLPYLTGAGFGDGTAAAPGLVWKGDPDTGLFRPGSNAVGVTAGGVLRLTVSALALTSTVPLRAPLGTAAAPGISFEADPNTGIRSDGADVLHFVTGGVTRGFFSTTHFQSTLPAALPGGAAGAPGLTFAGDLDTGIFRAAADLLGIAAGGEERFRVGSGRAAALVPFSVPDGTQTFPGLTFNGEVGSNTGFFLAAENEIGVTCQGTERARFTPSGMQLQGLLSGTAVTQSDLDTTPGRLLKVGDYGLGGTARPIPGNDADQIGTTGFYQVTGATLNRPAGMSVGTLQHIQHGAARAVQIAYPQTASDTGRWCRHKDTSWGDWFLTYDQRNIVGAVSWASGFPRGGIIEKGETAGAEYVRFADGTQLCRLVQTGVPGPTTPQGSLYRTEWQTVTLPVEFVSGALNGHCVTGGCRGGSVISLLGRPGASNVAAYMLLAPTSYGATQTVDLLVTGRWR\n",
      ">_227431_A_G_227259_228743_-_437_V_A\n",
      "MDFFSPPPTPPNSGNPGTFNDDADAFLGWFPAFVAELNALLPYLTGAGFGDGTAAAPGLVWKGDPDTGLFRPGSNAVGVTAGGVLRLTVSALALTSTVPLRAPLGTAAAPGISFEADPNTGIRSDGADVLHFVTGGVTRGFFSTTHFQSTLPAALPGGAAGAPGLTFAGDLDTGIFRAAADLLGIAAGGEERFRVGSGRAAALVPFSVPDGTQTFPGLTFNGEVGSNTGFFLAAENEIGVTCQGTERARFTPSGMQLQGLLSGTAVTQSDLDTTPGRLLKVGDYGLGGTARPIPGNDADQIGTTGFYQVTGATLNRPAGMSVGTLQHIQHGAARAVQIAYPQTASDTGRWCRHKDTSWGDWFLTYDQRNIVGAVSWASGFPRGGIIEKGETAGAEYVRFADGTQLCRLVQTGVPGPTTPQGSLYRTEWQTVTLPVEFVSGALNGHCVTGGCRGGSVISLLGRPGASNVAAYMLLAPTSYGATQTVDLLVTGRWR\n",
      ">_227495_T_C_227259_228743_-_416_T_A\n",
      "MDFFSPPPTPPNSGNPGTFNDDADAFLGWFPAFVAELNALLPYLTGAGFGDGTAAAPGLVWKGDPDTGLFRPGSNAVGVTAGGVLRLTVSALALTSTVPLRAPLGTAAAPGISFEADPNTGIRSDGADVLHFVTGGVTRGFFSTTHFQSTLPAALPGGAAGAPGLTFAGDLDTGIFRAAADLLGIAAGGEERFRVGSGRAAALVPFSVPDGTQTFPGLTFNGEVGSNTGFFLAAENEIGVTCQGTERARFTPSGMQLQGLLSGTAVTQSDLDTTPGRLLKVGDYGLGGTARPIPGNDADQIGTTGFYQVTGATLNRPAGMSVGTLQHIQHGAARAVQIAYPQTASDTGRWCRHKDTSWGDWFLTYDQRNIVGAVSWASGFPRGGIIEKGETAGAEYVRFADGTQLCRLVQTGVPGPTTPQGSLYRTEWQTVTLPVEFVSGALNGHCVTGGCRGGSVISLLGRPGASNVAAYMLLAPTSYGATQTVDLLVTGRWR\n",
      "...\n"   
]
    }
   ],
   "source": [
    "f = open(\"../Data/ProteinSequences/Chr1_Prot.fasta\", \"w\")\n",
    "f.write('\\n'.join(protein_seq_orig_1))\n",
    "f.close()\n",
    "\n",
    "#open and read the file after the appending:\n",
    "f = open(\"../Data/ProteinSequences/Chr1_Prot.fasta\", \"r\")\n",
    "print(f.read()) "
   ]
  },
  {
   "cell_type": "code",
   "execution_count": null,
   "id": "70a8bfa4-bd77-4d03-a584-f6e42dd2ff6d",
   "metadata": {},
   "outputs": [],
   "source": []
  }
 ],
 "metadata": {
  "kernelspec": {
   "display_name": "Python 3 (ipykernel)",
   "language": "python",
   "name": "python3"
  },
  "language_info": {
   "codemirror_mode": {
    "name": "ipython",
    "version": 3
   },
   "file_extension": ".py",
   "mimetype": "text/x-python",
   "name": "python",
   "nbconvert_exporter": "python",
   "pygments_lexer": "ipython3",
   "version": "3.10.10"
  }
 },
 "nbformat": 4,
 "nbformat_minor": 5
}
