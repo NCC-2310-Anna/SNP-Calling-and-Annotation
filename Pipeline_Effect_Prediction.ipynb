{
 "cells": [
  {
   "cell_type": "code",
   "execution_count": 1,
   "id": "0f9d79bc-0ba5-4186-8684-4aa4c3384a0c",
   "metadata": {},
   "outputs": [],
   "source": [
    "cd ~/SnP_Pipeline_full/Data/ProteinSequences"
   ]
  },
  {
   "cell_type": "markdown",
   "id": "27a8d64f-ae29-4c7b-a9bc-1622a5e4b03c",
   "metadata": {},
   "source": [
    "## Chromosome 1"
   ]
  },
  {
   "cell_type": "code",
   "execution_count": 2,
   "id": "bc8edb3d-5c23-416a-a230-b89b88d6b602",
   "metadata": {},
   "outputs": [],
   "source": [
    "cd /home/Drives/HDD03_06T_SDE/anna/UnirefBLASTDB/"
   ]
  },
  {
   "cell_type": "code",
   "execution_count": 3,
   "id": "3a720868-a579-47b6-95f6-aaa93d3cc5a9",
   "metadata": {},
   "outputs": [],
   "source": [
    "python3 -m demask.homologs -s /home/jupyter-anna/SnP_Pipeline_full/Data/ProteinSequences/Chr1_Prot.fasta -d /home/jupyter-anna/SnP_Pipeline_full/Data/ProteinSequences/BLAST_Hits/Chr1 --blastp '/usr/bin/blastp' --db /home/Drives/HDD03_06T_SDE/anna/UnirefBLASTDB/uniref90_DB -t 20"
   ]
  },
  {
   "cell_type": "code",
   "execution_count": 4,
   "id": "c1a3a9d1-d56a-4e49-a30e-8ad23658fc7b",
   "metadata": {},
   "outputs": [],
   "source": [
    "cd ~/SnP_Pipeline_full/Data/ProteinSequences/BLAST_Hits/Chr1"
   ]
  },
  {
   "cell_type": "code",
   "execution_count": 5,
   "id": "46a3974e-a2db-484b-944e-2ba453ad9c31",
   "metadata": {},
   "outputs": [],
   "source": [
    "for i in *.a2m; do python3 -m demask.predict -i $i -o ../../Predictions/Chr1/DeMasK_$i.txt; done"
   ]
  },
  {
   "cell_type": "markdown",
   "id": "c20d7364-ea49-4974-95fb-8c816e9601b8",
   "metadata": {},
   "source": [
    "## Chromosome 2"
   ]
  },
  {
   "cell_type": "code",
   "execution_count": 6,
   "id": "a290f8b8-bdaa-46e6-a418-303787bad1e9",
   "metadata": {},
   "outputs": [],
   "source": [
    "cd /home/Drives/HDD03_06T_SDE/anna/UnirefBLASTDB/"
   ]
  },
  {
   "cell_type": "code",
   "execution_count": 7,
   "id": "6a374f5c-4483-4a30-996c-f3fd58a08cbb",
   "metadata": {},
   "outputs": [],
   "source": [
    "python3 -m demask.homologs -s /home/jupyter-anna/SnP_Pipeline_full/Data/ProteinSequences/Chr2_Prot.fasta -d /home/jupyter-anna/SnP_Pipeline_full/Data/ProteinSequences/BLAST_Hits/Chr2 --blastp '/usr/bin/blastp' --db /home/Drives/HDD03_06T_SDE/anna/UnirefBLASTDB/uniref90_DB -t 20"
   ]
  },
  {
   "cell_type": "code",
   "execution_count": 8,
   "id": "d29c613a-9638-47e1-b17c-273ab0317fef",
   "metadata": {},
   "outputs": [],
   "source": [
    "cd ~/SnP_Pipeline_full/Data/ProteinSequences/BLAST_Hits/Chr2"
   ]
  },
  {
   "cell_type": "code",
   "execution_count": 9,
   "id": "5a4b9935-b56d-4ce3-9b62-9e79e438eeff",
   "metadata": {},
   "outputs": [],
   "source": [
    "for i in *.a2m; do python3 -m demask.predict -i $i -o ../../Predictions/Chr2/DeMasK_$i.txt; done"
   ]
  },
  {
   "cell_type": "markdown",
   "id": "6b955d21-3a44-4881-bd48-c2aee9ed6de8",
   "metadata": {},
   "source": [
    "## Plasmid A"
   ]
  },
  {
   "cell_type": "code",
   "execution_count": 10,
   "id": "c7833a39-3216-42d4-81ae-a2822957b1c4",
   "metadata": {},
   "outputs": [],
   "source": [
    "cd /home/Drives/HDD03_06T_SDE/anna/UnirefBLASTDB/"
   ]
  },
  {
   "cell_type": "code",
   "execution_count": 11,
   "id": "3590865d-238e-4acd-82af-fe398112d4bb",
   "metadata": {},
   "outputs": [],
   "source": [
    "python3 -m demask.homologs -s /home/jupyter-anna/SnP_Pipeline_full/Data/ProteinSequences/PlA_Prot.fasta -d /home/jupyter-anna/SnP_Pipeline_full/Data/ProteinSequences/BLAST_Hits/PlA --blastp '/usr/bin/blastp' --db /home/Drives/HDD03_06T_SDE/anna/UnirefBLASTDB/uniref90_DB -t 20"
   ]
  },
  {
   "cell_type": "code",
   "execution_count": 12,
   "id": "2c9b6eb6-29f3-4344-93c9-267924c798a3",
   "metadata": {},
   "outputs": [],
   "source": [
    "cd ~/SnP_Pipeline_full/Data/ProteinSequences/BLAST_Hits/PlA"
   ]
  },
  {
   "cell_type": "code",
   "execution_count": 13,
   "id": "6f2528e5-a18e-4817-bbcc-86c989ce907b",
   "metadata": {},
   "outputs": [],
   "source": [
    "for i in *.a2m; do python3 -m demask.predict -i $i -o ../../Predictions/PlA/DeMasK_$i.txt; done"
   ]
  },
  {
   "cell_type": "markdown",
   "id": "19a7ea9b-35ec-476a-a61f-7dccbdfd2d52",
   "metadata": {},
   "source": [
    "## Plasmid B"
   ]
  },
  {
   "cell_type": "markdown",
   "id": "8c1d0eb2-ab0b-403a-807f-da9c0d6128fd",
   "metadata": {},
   "source": [
    "No consent SNP Data by all Callers"
   ]
  },
  {
   "cell_type": "markdown",
   "id": "51553c81-0739-45a7-ad52-ab8451bdc03c",
   "metadata": {},
   "source": [
    "## Plasmid C"
   ]
  },
  {
   "cell_type": "code",
   "execution_count": 14,
   "id": "7e908e6b-018f-4390-b4d4-d839a7e24482",
   "metadata": {},
   "outputs": [],
   "source": [
    "cd /home/Drives/HDD03_06T_SDE/anna/UnirefBLASTDB/"
   ]
  },
  {
   "cell_type": "code",
   "execution_count": 15,
   "id": "c452d193-7117-4edd-8d42-9d1031959cf3",
   "metadata": {},
   "outputs": [],
   "source": [
    "python3 -m demask.homologs -s /home/jupyter-anna/SnP_Pipeline_full/Data/ProteinSequences/PlC_Prot.fasta -d /home/jupyter-anna/SnP_Pipeline_full/Data/ProteinSequences/BLAST_Hits/PlC --blastp '/usr/bin/blastp' --db /home/Drives/HDD03_06T_SDE/anna/UnirefBLASTDB/uniref90_DB -t 20"
   ]
  },
  {
   "cell_type": "code",
   "execution_count": 16,
   "id": "be45c4f9-d7c2-47aa-8956-320a332e573f",
   "metadata": {},
   "outputs": [],
   "source": [
    "cd ~/SnP_Pipeline_full/Data/ProteinSequences/BLAST_Hits/PlC"
   ]
  },
  {
   "cell_type": "code",
   "execution_count": 17,
   "id": "c55213dd-c064-40b1-91c9-9bf28f74eaa3",
   "metadata": {},
   "outputs": [],
   "source": [
    "for i in *.a2m; do python3 -m demask.predict -i $i -o ../../Predictions/PlC/DeMasK_$i.txt; done"
   ]
  },
  {
   "cell_type": "markdown",
   "id": "54a17a5a-03e4-491d-90fa-d4dabcc7c74b",
   "metadata": {},
   "source": [
    "## Plasmid DE"
   ]
  },
  {
   "cell_type": "code",
   "execution_count": 18,
   "id": "3ce48d22-8b63-43b1-8ca2-099f4266917a",
   "metadata": {},
   "outputs": [],
   "source": [
    "cd /home/Drives/HDD03_06T_SDE/anna/UnirefBLASTDB/"
   ]
  },
  {
   "cell_type": "code",
   "execution_count": 19,
   "id": "45782d99-9478-421d-aa66-41f03d22b29d",
   "metadata": {},
   "outputs": [
    {
     "name": "stdout",
     "output_type": "stream",
     "text": [
      "Warning: Very few homologs found for _53199_T_C_53195_53665_+_1_V_A.\n",
      "Warning: Very few homologs found for _53460_A_G_53195_53665_+_88_N_S.\n",
      "Warning: Very few homologs found for _53471_C_A_53195_53665_+_92_H_N.\n",
      "Warning: Very few homologs found for _53528_T_G_53195_53665_+_111_S_A.\n",
      "Warning: Very few homologs found for _53552_T_A_53195_53665_+_119_L_I.\n",
      "Warning: Very few homologs found for _53600_T_C_53195_53665_+_135_F_L.\n",
      "Warning: Very few homologs found for _53612_A_G_53195_53665_+_139_I_V.\n"
     ]
    }
   ],
   "source": [
    "python3 -m demask.homologs -s /home/jupyter-anna/SnP_Pipeline_full/Data/ProteinSequences/PlDE_Prot.fasta -d /home/jupyter-anna/SnP_Pipeline_full/Data/ProteinSequences/BLAST_Hits/PlDE --blastp '/usr/bin/blastp' --db /home/Drives/HDD03_06T_SDE/anna/UnirefBLASTDB/uniref90_DB -t 20"
   ]
  },
  {
   "cell_type": "code",
   "execution_count": 20,
   "id": "c2c2b458-5ff0-4045-b240-0059a393ec43",
   "metadata": {},
   "outputs": [],
   "source": [
    "cd ~/SnP_Pipeline_full/Data/ProteinSequences/BLAST_Hits/PlDE"
   ]
  },
  {
   "cell_type": "code",
   "execution_count": 21,
   "id": "584449f3-05d8-491b-a2a9-5bc7f182a98a",
   "metadata": {},
   "outputs": [],
   "source": [
    "for i in *.a2m; do python3 -m demask.predict -i $i -o ../../Predictions/PlDE/DeMasK_$i.txt; done"
   ]
  },
  {
   "cell_type": "markdown",
   "id": "0445b3ed-5e0d-4fc2-a78e-3303255585dc",
   "metadata": {},
   "source": [
    "# Extract Impact Score for every Mutation"
   ]
  },
  {
   "cell_type": "markdown",
   "id": "8c69934d-e4a9-4e66-90f1-96c326f3af4a",
   "metadata": {},
   "source": [
    "## Chromosome 1"
   ]
  },
  {
   "cell_type": "code",
   "execution_count": 22,
   "id": "ac448567-e84d-45ee-ba00-bb5655dd0029",
   "metadata": {},
   "outputs": [],
   "source": [
    "cd ~/SnP_Pipeline_full/Data/ProteinSequences/Predictions"
   ]
  },
  {
   "cell_type": "code",
   "execution_count": 23,
   "id": "753cb862-01c2-45e4-ad18-dbb1da97d293",
   "metadata": {},
   "outputs": [],
   "source": [
    "cd Chr1"
   ]
  },
  {
   "cell_type": "code",
   "execution_count": 24,
   "id": "9d4e2fa6-eb1a-4023-beab-29f55b061644",
   "metadata": {},
   "outputs": [],
   "source": [
    "ls | awk  '{FS =\"_\"; print $3, $6, $9, $10, $11}' | awk '{FS = \".\"; print $1}' > ImpactPosition.tab"
   ]
  },
  {
   "cell_type": "code",
   "execution_count": 25,
   "id": "54de7224-9523-4e43-9a55-3dfe6bf0fd0f",
   "metadata": {},
   "outputs": [],
   "source": [
    "perl -lne 'BEGIN {$fnr=1};\n",
    "\n",
    "             if ($fnr == 1) {\n",
    "               ($fn = $ARGV) =~ s/\\.[^.]+$//;\n",
    "             } else {\n",
    "               print \"$fn\\t$_\"\n",
    "             };\n",
    "\n",
    "             $fnr++;\n",
    "\n",
    "             if (eof) {$fnr=1}' *.txt > Chr1_Predict.tab"
   ]
  },
  {
   "cell_type": "code",
   "execution_count": 26,
   "id": "e2649364-3e60-413a-ac3f-5314f2388740",
   "metadata": {},
   "outputs": [],
   "source": [
    "cat Chr1_Predict.tab | tr _ \"\\t\" | sed s/.a2m//g  > Chr1_Predict.tab.new"
   ]
  },
  {
   "cell_type": "code",
   "execution_count": 27,
   "id": "b5fc2f41-d3a0-451b-9d49-a3c4ab191f08",
   "metadata": {
    "scrolled": true
   },
   "outputs": [
    {
     "name": "stdout",
     "output_type": "stream",
     "text": [
      "DeMasK\t\t1019336\tT\tC\t1018673\t1019800\t+\t221\tS\tP\t1\tV\tA\t-0.2028\t1.2983\t-16.6099\t-0.1977\n",
      "DeMasK\t\t1019336\tT\tC\t1018673\t1019800\t+\t221\tS\tP\t1\tV\tC\t-0.2307\t1.2983\t-16.6099\t-0.2342\n",
      "DeMasK\t\t1019336\tT\tC\t1018673\t1019800\t+\t221\tS\tP\t1\tV\tD\t-0.3694\t1.2983\t-16.6099\t-0.4158\n",
      "DeMasK\t\t1019336\tT\tC\t1018673\t1019800\t+\t221\tS\tP\t1\tV\tE\t-0.3267\t1.2983\t-16.6099\t-0.3599\n",
      "DeMasK\t\t1019336\tT\tC\t1018673\t1019800\t+\t221\tS\tP\t1\tV\tF\t-0.2799\t1.2983\t-16.6099\t-0.2987\n",
      "DeMasK\t\t1019336\tT\tC\t1018673\t1019800\t+\t221\tS\tP\t1\tV\tG\t-0.3286\t1.2983\t-16.6099\t-0.3624\n",
      "DeMasK\t\t1019336\tT\tC\t1018673\t1019800\t+\t221\tS\tP\t1\tV\tH\t-0.3724\t1.2983\t-16.6099\t-0.4197\n",
      "DeMasK\t\t1019336\tT\tC\t1018673\t1019800\t+\t221\tS\tP\t1\tV\tI\t-0.0705\t1.2983\t-3.3221\t-0.1133\n",
      "DeMasK\t\t1019336\tT\tC\t1018673\t1019800\t+\t221\tS\tP\t1\tV\tK\t-0.3656\t1.2983\t-16.6099\t-0.4109\n",
      "DeMasK\t\t1019336\tT\tC\t1018673\t1019800\t+\t221\tS\tP\t1\tV\tL\t-0.2034\t1.2983\t-16.6099\t-0.1985\n"
     ]
    }
   ],
   "source": [
    "head Chr1_Predict.tab.new"
   ]
  },
  {
   "cell_type": "markdown",
   "id": "a896dbc9-b662-4845-974b-abfec42d5009",
   "metadata": {},
   "source": [
    "## Chromosome 2"
   ]
  },
  {
   "cell_type": "code",
   "execution_count": 28,
   "id": "68e47348-0011-4f92-a6d3-da1241d95d52",
   "metadata": {},
   "outputs": [],
   "source": [
    "cd ~/SnP_Pipeline_full/Data/ProteinSequences/Predictions"
   ]
  },
  {
   "cell_type": "code",
   "execution_count": 29,
   "id": "2b9c9e68-e1dd-4392-9760-0ad750605125",
   "metadata": {},
   "outputs": [],
   "source": [
    "cd Chr2"
   ]
  },
  {
   "cell_type": "code",
   "execution_count": 30,
   "id": "0bc4b2c5-9769-43f4-9f38-fa105f673893",
   "metadata": {},
   "outputs": [],
   "source": [
    "ls | awk  '{FS =\"_\"; print $3, $6, $9, $10, $11}' | awk '{FS = \".\"; print $1}' > ImpactPosition.tab"
   ]
  },
  {
   "cell_type": "code",
   "execution_count": 31,
   "id": "047c2e6a-ca9a-45a3-a438-80fdef5a84ef",
   "metadata": {},
   "outputs": [],
   "source": [
    "perl -lne 'BEGIN {$fnr=1};\n",
    "\n",
    "             if ($fnr == 1) {\n",
    "               ($fn = $ARGV) =~ s/\\.[^.]+$//;\n",
    "             } else {\n",
    "               print \"$fn\\t$_\"\n",
    "             };\n",
    "\n",
    "             $fnr++;\n",
    "\n",
    "             if (eof) {$fnr=1}' *.txt > Chr2_Predict.tab"
   ]
  },
  {
   "cell_type": "code",
   "execution_count": 32,
   "id": "8502a8b3-4542-4871-be51-4d733033811f",
   "metadata": {},
   "outputs": [],
   "source": [
    "cat Chr2_Predict.tab | tr _ \"\\t\" | sed s/.a2m//g  > Chr2_Predict.tab.new"
   ]
  },
  {
   "cell_type": "code",
   "execution_count": 33,
   "id": "37424fa3-8605-4f26-b23a-2ebb3d1154dc",
   "metadata": {
    "scrolled": true
   },
   "outputs": [
    {
     "name": "stdout",
     "output_type": "stream",
     "text": [
      "DeMasK\t\t255166\tC\tT\t254250\t255269\t-\t34\tR\tQ\t1\tM\tA\t-0.3771\t0.2676\t-22.2361\t-0.2641\n",
      "DeMasK\t\t255166\tC\tT\t254250\t255269\t-\t34\tR\tQ\t1\tM\tC\t-0.3826\t0.2676\t-22.2361\t-0.2713\n",
      "DeMasK\t\t255166\tC\tT\t254250\t255269\t-\t34\tR\tQ\t1\tM\tD\t-0.4885\t0.2676\t-22.2361\t-0.4100\n",
      "DeMasK\t\t255166\tC\tT\t254250\t255269\t-\t34\tR\tQ\t1\tM\tE\t-0.4787\t0.2676\t-22.2361\t-0.3972\n",
      "DeMasK\t\t255166\tC\tT\t254250\t255269\t-\t34\tR\tQ\t1\tM\tF\t-0.3821\t0.2676\t-22.2361\t-0.2707\n",
      "DeMasK\t\t255166\tC\tT\t254250\t255269\t-\t34\tR\tQ\t1\tM\tG\t-0.4579\t0.2676\t-22.2361\t-0.3700\n",
      "DeMasK\t\t255166\tC\tT\t254250\t255269\t-\t34\tR\tQ\t1\tM\tH\t-0.4353\t0.2676\t-22.2361\t-0.3404\n",
      "DeMasK\t\t255166\tC\tT\t254250\t255269\t-\t34\tR\tQ\t1\tM\tI\t-0.2265\t0.2676\t-8.9482\t-0.1558\n",
      "DeMasK\t\t255166\tC\tT\t254250\t255269\t-\t34\tR\tQ\t1\tM\tK\t-0.4396\t0.2676\t-22.2361\t-0.3460\n",
      "DeMasK\t\t255166\tC\tT\t254250\t255269\t-\t34\tR\tQ\t1\tM\tL\t-0.1723\t0.2676\t-4.7784\t-0.1126\n"
     ]
    }
   ],
   "source": [
    "head Chr2_Predict.tab.new"
   ]
  },
  {
   "cell_type": "markdown",
   "id": "86537b75-2b9f-420b-be8b-8ce92a265c50",
   "metadata": {},
   "source": [
    "## Plasmid A"
   ]
  },
  {
   "cell_type": "code",
   "execution_count": 34,
   "id": "1f5194a4-ec86-455f-8e91-7f7654408d42",
   "metadata": {},
   "outputs": [],
   "source": [
    "cd ~/SnP_Pipeline_full/Data/ProteinSequences/Predictions"
   ]
  },
  {
   "cell_type": "code",
   "execution_count": 35,
   "id": "89454f65-222d-46f7-bdff-a24910aa4351",
   "metadata": {},
   "outputs": [],
   "source": [
    "cd PlA"
   ]
  },
  {
   "cell_type": "code",
   "execution_count": 36,
   "id": "9af2abde-4fb9-4c36-8061-454d9dda0efc",
   "metadata": {},
   "outputs": [],
   "source": [
    "ls | awk  '{FS =\"_\"; print $3, $6, $9, $10, $11}' | awk '{FS = \".\"; print $1}' > ImpactPosition.tab"
   ]
  },
  {
   "cell_type": "code",
   "execution_count": 37,
   "id": "a0180c8a-870f-4425-827a-15ec1445bb47",
   "metadata": {},
   "outputs": [],
   "source": [
    "perl -lne 'BEGIN {$fnr=1};\n",
    "\n",
    "             if ($fnr == 1) {\n",
    "               ($fn = $ARGV) =~ s/\\.[^.]+$//;\n",
    "             } else {\n",
    "               print \"$fn\\t$_\"\n",
    "             };\n",
    "\n",
    "             $fnr++;\n",
    "\n",
    "             if (eof) {$fnr=1}' *.txt > PlA_Predict.tab"
   ]
  },
  {
   "cell_type": "code",
   "execution_count": 38,
   "id": "4b773842-9b8c-4254-bfea-ac9652d6f385",
   "metadata": {},
   "outputs": [],
   "source": [
    "cat PlA_Predict.tab | tr _ \"\\t\" | sed s/.a2m//g  > PlA_Predict.tab.new"
   ]
  },
  {
   "cell_type": "code",
   "execution_count": 39,
   "id": "26a1c274-453f-4a02-b1bb-2822b015496e",
   "metadata": {
    "scrolled": true
   },
   "outputs": [
    {
     "name": "stdout",
     "output_type": "stream",
     "text": [
      "DeMasK\t\t74399\tT\tC\t72290\t74545\t+\t703\tW\tR\t1\tM\tA\t-0.3632\t0.0103\t-14.8736\t-0.2641\n",
      "DeMasK\t\t74399\tT\tC\t72290\t74545\t+\t703\tW\tR\t1\tM\tC\t-0.3687\t0.0103\t-14.8736\t-0.2713\n",
      "DeMasK\t\t74399\tT\tC\t72290\t74545\t+\t703\tW\tR\t1\tM\tD\t-0.4746\t0.0103\t-14.8736\t-0.4100\n",
      "DeMasK\t\t74399\tT\tC\t72290\t74545\t+\t703\tW\tR\t1\tM\tE\t-0.4648\t0.0103\t-14.8736\t-0.3972\n",
      "DeMasK\t\t74399\tT\tC\t72290\t74545\t+\t703\tW\tR\t1\tM\tF\t-0.3682\t0.0103\t-14.8736\t-0.2707\n",
      "DeMasK\t\t74399\tT\tC\t72290\t74545\t+\t703\tW\tR\t1\tM\tG\t-0.4441\t0.0103\t-14.8736\t-0.3700\n",
      "DeMasK\t\t74399\tT\tC\t72290\t74545\t+\t703\tW\tR\t1\tM\tH\t-0.4214\t0.0103\t-14.8736\t-0.3404\n",
      "DeMasK\t\t74399\tT\tC\t72290\t74545\t+\t703\tW\tR\t1\tM\tI\t-0.2804\t0.0103\t-14.8736\t-0.1558\n",
      "DeMasK\t\t74399\tT\tC\t72290\t74545\t+\t703\tW\tR\t1\tM\tK\t-0.4257\t0.0103\t-14.8736\t-0.3460\n",
      "DeMasK\t\t74399\tT\tC\t72290\t74545\t+\t703\tW\tR\t1\tM\tL\t-0.2474\t0.0103\t-14.8736\t-0.1126\n"
     ]
    }
   ],
   "source": [
    "head PlA_Predict.tab.new"
   ]
  },
  {
   "cell_type": "markdown",
   "id": "dd0c38b2-6120-48d8-bee5-382a198f6a2f",
   "metadata": {},
   "source": [
    "## PlB --> No Variants found"
   ]
  },
  {
   "cell_type": "markdown",
   "id": "64db4643-a867-4166-838b-07c913fc893c",
   "metadata": {},
   "source": [
    "## PlC"
   ]
  },
  {
   "cell_type": "code",
   "execution_count": 40,
   "id": "39410a60-6a22-4312-840d-3c83efb3039c",
   "metadata": {},
   "outputs": [],
   "source": [
    "cd ~/SnP_Pipeline_full/Data/ProteinSequences/Predictions"
   ]
  },
  {
   "cell_type": "code",
   "execution_count": 41,
   "id": "3e747ebc-39c1-48a1-879e-13eae026432c",
   "metadata": {},
   "outputs": [],
   "source": [
    "cd PlC"
   ]
  },
  {
   "cell_type": "code",
   "execution_count": 42,
   "id": "84a37c70-85b8-437a-9229-4db482a0d5c5",
   "metadata": {},
   "outputs": [],
   "source": [
    "ls | awk  '{FS =\"_\"; print $3, $6, $9, $10, $11}' | awk '{FS = \".\"; print $1}' > ImpactPosition.tab"
   ]
  },
  {
   "cell_type": "code",
   "execution_count": 43,
   "id": "4b57712d-aeb8-4aa3-8d20-daaf627dce75",
   "metadata": {},
   "outputs": [],
   "source": [
    "perl -lne 'BEGIN {$fnr=1};\n",
    "\n",
    "             if ($fnr == 1) {\n",
    "               ($fn = $ARGV) =~ s/\\.[^.]+$//;\n",
    "             } else {\n",
    "               print \"$fn\\t$_\"\n",
    "             };\n",
    "\n",
    "             $fnr++;\n",
    "\n",
    "             if (eof) {$fnr=1}' *.txt > PlC_Predict.tab"
   ]
  },
  {
   "cell_type": "code",
   "execution_count": 44,
   "id": "b0bb9191-9da2-41f8-a301-36d9131f155c",
   "metadata": {},
   "outputs": [],
   "source": [
    "cat PlC_Predict.tab | tr _ \"\\t\" | sed s/.a2m//g  > PlC_Predict.tab.new"
   ]
  },
  {
   "cell_type": "code",
   "execution_count": 45,
   "id": "76d96e5d-52a4-4bab-a0ba-917235f9f6da",
   "metadata": {
    "scrolled": true
   },
   "outputs": [
    {
     "name": "stdout",
     "output_type": "stream",
     "text": [
      "DeMasK\t\t51945\tG\tA\t51201\t53996\t+\t248\tV\tI\t1\tM\tA\t-0.3089\t0.6550\t-15.8732\t-0.2641\n",
      "DeMasK\t\t51945\tG\tA\t51201\t53996\t+\t248\tV\tI\t1\tM\tC\t-0.3144\t0.6550\t-15.8732\t-0.2713\n",
      "DeMasK\t\t51945\tG\tA\t51201\t53996\t+\t248\tV\tI\t1\tM\tD\t-0.4204\t0.6550\t-15.8732\t-0.4100\n",
      "DeMasK\t\t51945\tG\tA\t51201\t53996\t+\t248\tV\tI\t1\tM\tE\t-0.4106\t0.6550\t-15.8732\t-0.3972\n",
      "DeMasK\t\t51945\tG\tA\t51201\t53996\t+\t248\tV\tI\t1\tM\tF\t-0.3140\t0.6550\t-15.8732\t-0.2707\n",
      "DeMasK\t\t51945\tG\tA\t51201\t53996\t+\t248\tV\tI\t1\tM\tG\t-0.3898\t0.6550\t-15.8732\t-0.3700\n",
      "DeMasK\t\t51945\tG\tA\t51201\t53996\t+\t248\tV\tI\t1\tM\tH\t-0.3672\t0.6550\t-15.8732\t-0.3404\n",
      "DeMasK\t\t51945\tG\tA\t51201\t53996\t+\t248\tV\tI\t1\tM\tI\t-0.2262\t0.6550\t-15.8732\t-0.1558\n",
      "DeMasK\t\t51945\tG\tA\t51201\t53996\t+\t248\tV\tI\t1\tM\tK\t-0.3715\t0.6550\t-15.8732\t-0.3460\n",
      "DeMasK\t\t51945\tG\tA\t51201\t53996\t+\t248\tV\tI\t1\tM\tL\t-0.1932\t0.6550\t-15.8732\t-0.1126\n"
     ]
    }
   ],
   "source": [
    "head PlC_Predict.tab.new"
   ]
  },
  {
   "cell_type": "markdown",
   "id": "e02cc091-d1f1-4802-a570-49628f3c6392",
   "metadata": {},
   "source": [
    "## Plasmid DE"
   ]
  },
  {
   "cell_type": "code",
   "execution_count": 46,
   "id": "a5be4322-4fd8-4f7b-b40d-ac45e0c3e199",
   "metadata": {},
   "outputs": [],
   "source": [
    "cd ~/SnP_Pipeline_full/Data/ProteinSequences/Predictions"
   ]
  },
  {
   "cell_type": "code",
   "execution_count": 47,
   "id": "d74c61fd-8045-4649-9153-00a04ce20b39",
   "metadata": {},
   "outputs": [],
   "source": [
    "cd PlDE"
   ]
  },
  {
   "cell_type": "code",
   "execution_count": 48,
   "id": "e57118ab-7cfe-4028-a264-fa07c23b1c7e",
   "metadata": {},
   "outputs": [],
   "source": [
    "ls | awk  '{FS =\"_\"; print $3, $6, $9, $10, $11}' | awk '{FS = \".\"; print $1}' > ImpactPosition.tab"
   ]
  },
  {
   "cell_type": "code",
   "execution_count": 49,
   "id": "9429ed1e-ff2b-47b3-9e18-690d0d79aefd",
   "metadata": {},
   "outputs": [],
   "source": [
    "perl -lne 'BEGIN {$fnr=1};\n",
    "\n",
    "             if ($fnr == 1) {\n",
    "               ($fn = $ARGV) =~ s/\\.[^.]+$//;\n",
    "             } else {\n",
    "               print \"$fn\\t$_\"\n",
    "             };\n",
    "\n",
    "             $fnr++;\n",
    "\n",
    "             if (eof) {$fnr=1}' *.txt > PlDE_Predict.tab"
   ]
  },
  {
   "cell_type": "code",
   "execution_count": 50,
   "id": "b80352c3-4a1a-49b3-86c0-728a32d370cd",
   "metadata": {},
   "outputs": [],
   "source": [
    "cat PlDE_Predict.tab | tr _ \"\\t\" | sed s/.a2m//g  > PlDE_Predict.tab.new"
   ]
  },
  {
   "cell_type": "code",
   "execution_count": 51,
   "id": "0442d6be-d01d-4da6-bf92-8f9748857d8a",
   "metadata": {
    "scrolled": true
   },
   "outputs": [
    {
     "name": "stdout",
     "output_type": "stream",
     "text": [
      "DeMasK\t\t107875\tA\tG\t107869\t108174\t+\t2\tI\tV\t1\tM\tA\t-0.3912\t0.0003\t-20.1946\t-0.2641\n",
      "DeMasK\t\t107875\tA\tG\t107869\t108174\t+\t2\tI\tV\t1\tM\tC\t-0.3967\t0.0003\t-20.1946\t-0.2713\n",
      "DeMasK\t\t107875\tA\tG\t107869\t108174\t+\t2\tI\tV\t1\tM\tD\t-0.5027\t0.0003\t-20.1946\t-0.4100\n",
      "DeMasK\t\t107875\tA\tG\t107869\t108174\t+\t2\tI\tV\t1\tM\tE\t-0.4929\t0.0003\t-20.1946\t-0.3972\n",
      "DeMasK\t\t107875\tA\tG\t107869\t108174\t+\t2\tI\tV\t1\tM\tF\t-0.3963\t0.0003\t-20.1946\t-0.2707\n",
      "DeMasK\t\t107875\tA\tG\t107869\t108174\t+\t2\tI\tV\t1\tM\tG\t-0.4721\t0.0003\t-20.1946\t-0.3700\n",
      "DeMasK\t\t107875\tA\tG\t107869\t108174\t+\t2\tI\tV\t1\tM\tH\t-0.4495\t0.0003\t-20.1946\t-0.3404\n",
      "DeMasK\t\t107875\tA\tG\t107869\t108174\t+\t2\tI\tV\t1\tM\tI\t-0.3085\t0.0003\t-20.1946\t-0.1558\n",
      "DeMasK\t\t107875\tA\tG\t107869\t108174\t+\t2\tI\tV\t1\tM\tK\t-0.4538\t0.0003\t-20.1946\t-0.3460\n",
      "DeMasK\t\t107875\tA\tG\t107869\t108174\t+\t2\tI\tV\t1\tM\tL\t-0.2755\t0.0003\t-20.1946\t-0.1126\n"
     ]
    }
   ],
   "source": [
    "head PlDE_Predict.tab.new"
   ]
  }
 ],
 "metadata": {
  "kernelspec": {
   "display_name": "Bash",
   "language": "bash",
   "name": "bash"
  },
  "language_info": {
   "codemirror_mode": "shell",
   "file_extension": ".sh",
   "mimetype": "text/x-sh",
   "name": "bash"
  }
 },
 "nbformat": 4,
 "nbformat_minor": 5
}
