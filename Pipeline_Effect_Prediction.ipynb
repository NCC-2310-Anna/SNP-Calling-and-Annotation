{
 "cells": [
  {
   "cell_type": "markdown",
   "id": "27a8d64f-ae29-4c7b-a9bc-1622a5e4b03c",
   "metadata": {},
   "source": [
    "# Prediction of Impacts"
   ]
  },
  {
   "cell_type": "markdown",
   "id": "ef90a488-128b-4a56-8882-9f8b383a6456",
   "metadata": {},
   "source": [
    "The following steps have to be repeated for every chromosome and every plasmid!"
   ]
  },
  {
   "cell_type": "markdown",
   "id": "63bb7515-8774-4b05-bd48-1844541b47d5",
   "metadata": {},
   "source": [
    "What we need for these steps:\n",
    "- Data:\n",
    "    - A BLAST-Database for protein sequences (we use the UniRef90 Database)\n",
    "    - The `.fasta` files from the SNP Annotation pipeline\n",
    "- Tools:\n",
    "    - `DeMaSk` variant effect predictor\n",
    "    - `blastp`\n",
    "    - `perl`"
   ]
  },
  {
   "cell_type": "markdown",
   "id": "9ab6f808-be3f-4a27-a9e5-9d499590f4bc",
   "metadata": {},
   "source": [
    "First we need to get homologes for every of our proteins. We achieve this with the command `demask.homologs`."
   ]
  },
  {
   "cell_type": "code",
   "execution_count": 3,
   "id": "3a720868-a579-47b6-95f6-aaa93d3cc5a9",
   "metadata": {},
   "outputs": [],
   "source": [
    "python3 -m demask.homologs -s Prot.fasta -d /BLAST_Hits --blastp '/usr/bin/blastp' --db /UnirefBLASTDB/uniref90_DB -t 20"
   ]
  },
  {
   "cell_type": "markdown",
   "id": "e655a735-739c-4066-99b0-73e6819c1821",
   "metadata": {},
   "source": [
    "With the homologes searched before, we can now predict our impact scores using the command `demask.predict`."
   ]
  },
  {
   "cell_type": "code",
   "execution_count": 5,
   "id": "46a3974e-a2db-484b-944e-2ba453ad9c31",
   "metadata": {},
   "outputs": [],
   "source": [
    "for i in *.a2m; do python3 -m demask.predict -i $i -o /DeMasK_$i.txt; done"
   ]
  },
  {
   "cell_type": "markdown",
   "id": "0445b3ed-5e0d-4fc2-a78e-3303255585dc",
   "metadata": {},
   "source": [
    "# Extract Impact Score for every Mutation"
   ]
  },
  {
   "cell_type": "markdown",
   "id": "3aaf7175-bc25-4ed1-a903-b525a72877ed",
   "metadata": {},
   "source": [
    "`DeMaSk` calculates all possible impacts for every position but we are only interested in the scores for mutations we observed in out data. With the `awk` and `perl` scripts below we extract the impact for these mutation."
   ]
  },
  {
   "cell_type": "code",
   "execution_count": 24,
   "id": "9d4e2fa6-eb1a-4023-beab-29f55b061644",
   "metadata": {},
   "outputs": [],
   "source": [
    "ls | awk  '{FS =\"_\"; print $3, $6, $9, $10, $11}' | awk '{FS = \".\"; print $1}' > ImpactPosition.tab"
   ]
  },
  {
   "cell_type": "code",
   "execution_count": 25,
   "id": "54de7224-9523-4e43-9a55-3dfe6bf0fd0f",
   "metadata": {},
   "outputs": [],
   "source": [
    "perl -lne 'BEGIN {$fnr=1};\n",
    "\n",
    "             if ($fnr == 1) {\n",
    "               ($fn = $ARGV) =~ s/\\.[^.]+$//;\n",
    "             } else {\n",
    "               print \"$fn\\t$_\"\n",
    "             };\n",
    "\n",
    "             $fnr++;\n",
    "\n",
    "             if (eof) {$fnr=1}' *.txt > Chr1_Predict.tab"
   ]
  },
  {
   "cell_type": "code",
   "execution_count": 26,
   "id": "e2649364-3e60-413a-ac3f-5314f2388740",
   "metadata": {},
   "outputs": [],
   "source": [
    "cat Chr1_Predict.tab | tr _ \"\\t\" | sed s/.a2m//g  > Chr1_Predict.tab.new"
   ]
  },
  {
   "cell_type": "markdown",
   "id": "c02c1082-691f-4848-aabd-a128c375f3fb",
   "metadata": {},
   "source": [
    "Finally our data should look like this:"
   ]
  },
  {
   "cell_type": "code",
   "execution_count": 27,
   "id": "b5fc2f41-d3a0-451b-9d49-a3c4ab191f08",
   "metadata": {
    "scrolled": true
   },
   "outputs": [
    {
     "name": "stdout",
     "output_type": "stream",
     "text": [
      "DeMasK\t\t1019336\tT\tC\t1018673\t1019800\t+\t221\tS\tP\t1\tV\tA\t-0.2028\t1.2983\t-16.6099\t-0.1977\n",
      "DeMasK\t\t1019336\tT\tC\t1018673\t1019800\t+\t221\tS\tP\t1\tV\tC\t-0.2307\t1.2983\t-16.6099\t-0.2342\n",
      "DeMasK\t\t1019336\tT\tC\t1018673\t1019800\t+\t221\tS\tP\t1\tV\tD\t-0.3694\t1.2983\t-16.6099\t-0.4158\n",
      "DeMasK\t\t1019336\tT\tC\t1018673\t1019800\t+\t221\tS\tP\t1\tV\tE\t-0.3267\t1.2983\t-16.6099\t-0.3599\n",
      "DeMasK\t\t1019336\tT\tC\t1018673\t1019800\t+\t221\tS\tP\t1\tV\tF\t-0.2799\t1.2983\t-16.6099\t-0.2987\n",
      "DeMasK\t\t1019336\tT\tC\t1018673\t1019800\t+\t221\tS\tP\t1\tV\tG\t-0.3286\t1.2983\t-16.6099\t-0.3624\n",
      "DeMasK\t\t1019336\tT\tC\t1018673\t1019800\t+\t221\tS\tP\t1\tV\tH\t-0.3724\t1.2983\t-16.6099\t-0.4197\n",
      "DeMasK\t\t1019336\tT\tC\t1018673\t1019800\t+\t221\tS\tP\t1\tV\tI\t-0.0705\t1.2983\t-3.3221\t-0.1133\n",
      "DeMasK\t\t1019336\tT\tC\t1018673\t1019800\t+\t221\tS\tP\t1\tV\tK\t-0.3656\t1.2983\t-16.6099\t-0.4109\n",
      "DeMasK\t\t1019336\tT\tC\t1018673\t1019800\t+\t221\tS\tP\t1\tV\tL\t-0.2034\t1.2983\t-16.6099\t-0.1985\n"
     ]
    }
   ],
   "source": [
    "head Chr1_Predict.tab.new"
   ]
  }
 ],
 "metadata": {
  "kernelspec": {
   "display_name": "Bash",
   "language": "bash",
   "name": "bash"
  },
  "language_info": {
   "codemirror_mode": "shell",
   "file_extension": ".sh",
   "mimetype": "text/x-sh",
   "name": "bash"
  }
 },
 "nbformat": 4,
 "nbformat_minor": 5
}
